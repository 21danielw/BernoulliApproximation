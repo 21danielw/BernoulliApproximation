{
 "cells": [
  {
   "cell_type": "markdown",
   "metadata": {},
   "source": [
    "This notebook is my scratch notebook where I compute the constants italicB (Bernoulli numbers 0 through 50) and alpha and also generate the graphs for my paper. This code should not be run by the user."
   ]
  },
  {
   "cell_type": "code",
   "execution_count": null,
   "metadata": {},
   "outputs": [],
   "source": [
    "using OffsetArrays\n",
    "using Random\n",
    "using Dates\n",
    "italicB = OffsetArray{Rational{BigInt}}(undef, 0:50)\n",
    "italicB[0] = 1\n",
    "for k in 1:1:50\n",
    "    sum = 0\n",
    "    for i in 0:1:k-1\n",
    "        sum = sum + convert(BigInt,binomial(k,i))*italicB[i]//(k+1-i)\n",
    "    end\n",
    "    italicB[k] = -sum\n",
    "end\n",
    "alpha = OffsetArray{Rational{BigInt}}(undef, 0:50, 0:50)\n",
    "for m in 0:1:50\n",
    "    for i in 0:1:50\n",
    "        sum = 0\n",
    "        for k in i:1:m\n",
    "            sum = sum + binomial(k,k-i)*italicB[k-i]//factorial(big(k))\n",
    "        end\n",
    "        alpha[m,i] = sum\n",
    "    end\n",
    "end\n",
    "alpha = convert(OffsetArray{Float64}, alpha);"
   ]
  },
  {
   "cell_type": "code",
   "execution_count": null,
   "metadata": {},
   "outputs": [],
   "source": [
    "save_object(\"italicB.jld2\", italicB)\n",
    "save_object(\"alpha.jld2\", alpha)"
   ]
  }
 ],
 "metadata": {
  "kernelspec": {
   "display_name": "Julia 1.7.1",
   "language": "julia",
   "name": "julia-1.7"
  },
  "language_info": {
   "file_extension": ".jl",
   "mimetype": "application/julia",
   "name": "julia",
   "version": "1.7.1"
  }
 },
 "nbformat": 4,
 "nbformat_minor": 4
}
